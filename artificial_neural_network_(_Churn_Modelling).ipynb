{
  "nbformat": 4,
  "nbformat_minor": 0,
  "metadata": {
    "colab": {
      "provenance": []
    },
    "kernelspec": {
      "name": "python3",
      "display_name": "Python 3"
    },
    "language_info": {
      "name": "python"
    }
  },
  "cells": [
    {
      "cell_type": "markdown",
      "source": [
        "#Artificial Neural Network"
      ],
      "metadata": {
        "id": "v975Ao_vIkTj"
      }
    },
    {
      "cell_type": "markdown",
      "source": [
        "Importing the Libraries"
      ],
      "metadata": {
        "id": "JUzAmGXtHbO5"
      }
    },
    {
      "cell_type": "code",
      "execution_count": 31,
      "metadata": {
        "id": "LvPCBpHwHJtn"
      },
      "outputs": [],
      "source": [
        "import numpy as np\n",
        "import pandas as pd\n",
        "import tensorflow as tf\n"
      ]
    },
    {
      "cell_type": "code",
      "source": [
        "tf.__version__"
      ],
      "metadata": {
        "colab": {
          "base_uri": "https://localhost:8080/",
          "height": 36
        },
        "id": "hz56PyZtJQw5",
        "outputId": "1a3d6a01-8e57-4a5d-c225-dfab809e52a2"
      },
      "execution_count": 32,
      "outputs": [
        {
          "output_type": "execute_result",
          "data": {
            "text/plain": [
              "'2.15.0'"
            ],
            "application/vnd.google.colaboratory.intrinsic+json": {
              "type": "string"
            }
          },
          "metadata": {},
          "execution_count": 32
        }
      ]
    },
    {
      "cell_type": "markdown",
      "source": [
        "#Part 1 - Data Preprocessing"
      ],
      "metadata": {
        "id": "WozeCALeJB1n"
      }
    },
    {
      "cell_type": "markdown",
      "source": [
        "Importing the dataset"
      ],
      "metadata": {
        "id": "ci65MWfxJIbX"
      }
    },
    {
      "cell_type": "code",
      "source": [
        "dataset = pd.read_csv('Churn_Modelling.csv')\n",
        "X = dataset.iloc[: , 3:13].values\n",
        "y = dataset.iloc[ : ,13].values"
      ],
      "metadata": {
        "id": "WF5pdej-JMFN"
      },
      "execution_count": 33,
      "outputs": []
    },
    {
      "cell_type": "code",
      "source": [
        "print(X)\n",
        "print(y)"
      ],
      "metadata": {
        "colab": {
          "base_uri": "https://localhost:8080/"
        },
        "id": "9QGo03pqKN0J",
        "outputId": "11a68d77-6b20-428a-ff55-1d03dc3f83ac"
      },
      "execution_count": 34,
      "outputs": [
        {
          "output_type": "stream",
          "name": "stdout",
          "text": [
            "[[619 'France' 'Female' ... 1 1 101348.88]\n",
            " [608 'Spain' 'Female' ... 0 1 112542.58]\n",
            " [502 'France' 'Female' ... 1 0 113931.57]\n",
            " ...\n",
            " [709 'France' 'Female' ... 0 1 42085.58]\n",
            " [772 'Germany' 'Male' ... 1 0 92888.52]\n",
            " [792 'France' 'Female' ... 1 0 38190.78]]\n",
            "[1 0 1 ... 1 1 0]\n"
          ]
        }
      ]
    },
    {
      "cell_type": "markdown",
      "source": [
        "#Encoding Categorical data"
      ],
      "metadata": {
        "id": "YLGv1z_WKMJv"
      }
    },
    {
      "cell_type": "markdown",
      "source": [
        "Label Encoding the 'Gender' column"
      ],
      "metadata": {
        "id": "nZrXCio4KY98"
      }
    },
    {
      "cell_type": "code",
      "source": [
        "from sklearn.preprocessing import LabelEncoder\n",
        "le = LabelEncoder()\n",
        "X[:, 2] = le.fit_transform(X[:, 2])"
      ],
      "metadata": {
        "id": "icmopo4DKX_V"
      },
      "execution_count": 35,
      "outputs": []
    },
    {
      "cell_type": "code",
      "source": [
        "print(X)"
      ],
      "metadata": {
        "colab": {
          "base_uri": "https://localhost:8080/"
        },
        "id": "kUa9E-IlK1qz",
        "outputId": "2d7759d7-52b9-4141-d8ab-819625444680"
      },
      "execution_count": 36,
      "outputs": [
        {
          "output_type": "stream",
          "name": "stdout",
          "text": [
            "[[619 'France' 0 ... 1 1 101348.88]\n",
            " [608 'Spain' 0 ... 0 1 112542.58]\n",
            " [502 'France' 0 ... 1 0 113931.57]\n",
            " ...\n",
            " [709 'France' 0 ... 0 1 42085.58]\n",
            " [772 'Germany' 1 ... 1 0 92888.52]\n",
            " [792 'France' 0 ... 1 0 38190.78]]\n"
          ]
        }
      ]
    },
    {
      "cell_type": "markdown",
      "source": [
        "One Hot Encoding the 'Geography' column"
      ],
      "metadata": {
        "id": "PKPsIhSpK9sh"
      }
    },
    {
      "cell_type": "code",
      "source": [
        "from sklearn.compose import ColumnTransformer\n",
        "from sklearn.preprocessing import OneHotEncoder\n",
        "ct = ColumnTransformer(transformers = [('encoder', OneHotEncoder(), [1])], remainder='passthrough')\n",
        "X = np.array(ct.fit_transform(X))\n",
        "# dummy variables moves to 1st column .\n",
        "# France = 1.0 0.0 0.0\n",
        "# Spain = 0.0 0.0 1.0\n",
        "# Germany = 0.0 1.0 0.0\n",
        "print(X)"
      ],
      "metadata": {
        "colab": {
          "base_uri": "https://localhost:8080/"
        },
        "id": "w1K20cIWLE5b",
        "outputId": "3b6ff8a7-23c7-4626-a87f-11fafb70240b"
      },
      "execution_count": 37,
      "outputs": [
        {
          "output_type": "stream",
          "name": "stdout",
          "text": [
            "[[1.0 0.0 0.0 ... 1 1 101348.88]\n",
            " [0.0 0.0 1.0 ... 0 1 112542.58]\n",
            " [1.0 0.0 0.0 ... 1 0 113931.57]\n",
            " ...\n",
            " [1.0 0.0 0.0 ... 0 1 42085.58]\n",
            " [0.0 1.0 0.0 ... 1 0 92888.52]\n",
            " [1.0 0.0 0.0 ... 1 0 38190.78]]\n"
          ]
        }
      ]
    },
    {
      "cell_type": "markdown",
      "source": [
        "Splitting dataset into Training set and Test set"
      ],
      "metadata": {
        "id": "pDLRwurhailQ"
      }
    },
    {
      "cell_type": "code",
      "source": [
        "from sklearn.model_selection import train_test_split\n",
        "X_train, X_test, y_train, y_test = train_test_split(X, y, test_size = 0.2, random_state = 0)"
      ],
      "metadata": {
        "id": "-u6fa8A9ag9w"
      },
      "execution_count": 38,
      "outputs": []
    },
    {
      "cell_type": "markdown",
      "source": [
        "Feature Scaling\n",
        "*(It is compulsory to apply Feature Scaling in DEEP LEARNING) *"
      ],
      "metadata": {
        "id": "5MER1D5ta7d1"
      }
    },
    {
      "cell_type": "code",
      "source": [
        "from sklearn.preprocessing import StandardScaler\n",
        "sc = StandardScaler()\n",
        "X_train = sc.fit_transform(X_train)\n",
        "X_test = sc.transform(X_test)"
      ],
      "metadata": {
        "id": "HU0BG7M1a8z8"
      },
      "execution_count": 39,
      "outputs": []
    },
    {
      "cell_type": "markdown",
      "source": [
        "# Part 2 : Building the ANN"
      ],
      "metadata": {
        "id": "dIeT8wyib6M8"
      }
    },
    {
      "cell_type": "markdown",
      "source": [
        "Initializing the ANN"
      ],
      "metadata": {
        "id": "V7nlYvPWcAE9"
      }
    },
    {
      "cell_type": "code",
      "source": [
        "ann = tf.keras.models.Sequential()"
      ],
      "metadata": {
        "id": "70J_t7OLcDek"
      },
      "execution_count": 40,
      "outputs": []
    },
    {
      "cell_type": "markdown",
      "source": [
        "Adding the input layer and the first Hidden layer"
      ],
      "metadata": {
        "id": "WTq-lbEgcqGy"
      }
    },
    {
      "cell_type": "code",
      "source": [
        "ann.add(tf.keras.layers.Dense(units = 6, activation = 'relu')) # relu = Rectifier function"
      ],
      "metadata": {
        "id": "4NIFZSwmcu3Y"
      },
      "execution_count": 41,
      "outputs": []
    },
    {
      "cell_type": "markdown",
      "source": [
        "Adding the second hidden layer"
      ],
      "metadata": {
        "id": "GB_mM5Ytdgh6"
      }
    },
    {
      "cell_type": "code",
      "source": [
        "ann.add(tf.keras.layers.Dense(units = 6, activation = 'relu'))"
      ],
      "metadata": {
        "id": "K_tGwFz4dipa"
      },
      "execution_count": 42,
      "outputs": []
    },
    {
      "cell_type": "markdown",
      "source": [
        "Adding the output layer"
      ],
      "metadata": {
        "id": "BQS-nbGidmVl"
      }
    },
    {
      "cell_type": "code",
      "source": [
        "ann.add(tf.keras.layers.Dense(units = 1, activation = 'sigmoid')) # o/p layer activation function = sigmoid"
      ],
      "metadata": {
        "id": "rY1azL0cdoKo"
      },
      "execution_count": 43,
      "outputs": []
    },
    {
      "cell_type": "markdown",
      "source": [
        "# Part 3 : Training the ANN"
      ],
      "metadata": {
        "id": "ni3hN-zQeH0S"
      }
    },
    {
      "cell_type": "markdown",
      "source": [
        "Compiling the ANN\n"
      ],
      "metadata": {
        "id": "VLAbS6TVeN7Z"
      }
    },
    {
      "cell_type": "code",
      "source": [
        "ann.compile(optimizer = 'adam', loss = 'binary_crossentropy', metrics = ['accuracy'])\n",
        "# For Binary classification || loss = binary_crossentropy || activation = sigmoid\n",
        "# For categorical/non-binary classification || loss = categorical_crossentropy || activation = softmax"
      ],
      "metadata": {
        "id": "3NzK3zz8eNMA"
      },
      "execution_count": 44,
      "outputs": []
    },
    {
      "cell_type": "markdown",
      "source": [
        "Training the ANN on training set"
      ],
      "metadata": {
        "id": "raQ3MLs-eSan"
      }
    },
    {
      "cell_type": "code",
      "source": [
        "ann.fit(X_train, y_train, batch_size = 32, epochs = 200)\n",
        "# fit is used to Train any model in ML/DL"
      ],
      "metadata": {
        "colab": {
          "base_uri": "https://localhost:8080/"
        },
        "id": "-r3IYnZMeVFF",
        "outputId": "79427e1d-7a44-4f8d-eeed-b6c7477647cd"
      },
      "execution_count": 49,
      "outputs": [
        {
          "output_type": "stream",
          "name": "stdout",
          "text": [
            "Epoch 1/200\n",
            "250/250 [==============================] - 1s 3ms/step - loss: 0.3307 - accuracy: 0.8636\n",
            "Epoch 2/200\n",
            "250/250 [==============================] - 1s 2ms/step - loss: 0.3303 - accuracy: 0.8643\n",
            "Epoch 3/200\n",
            "250/250 [==============================] - 0s 2ms/step - loss: 0.3302 - accuracy: 0.8649\n",
            "Epoch 4/200\n",
            "250/250 [==============================] - 0s 2ms/step - loss: 0.3305 - accuracy: 0.8640\n",
            "Epoch 5/200\n",
            "250/250 [==============================] - 0s 2ms/step - loss: 0.3300 - accuracy: 0.8652\n",
            "Epoch 6/200\n",
            "250/250 [==============================] - 0s 2ms/step - loss: 0.3301 - accuracy: 0.8639\n",
            "Epoch 7/200\n",
            "250/250 [==============================] - 0s 2ms/step - loss: 0.3296 - accuracy: 0.8645\n",
            "Epoch 8/200\n",
            "250/250 [==============================] - 0s 2ms/step - loss: 0.3300 - accuracy: 0.8644\n",
            "Epoch 9/200\n",
            "250/250 [==============================] - 0s 2ms/step - loss: 0.3300 - accuracy: 0.8635\n",
            "Epoch 10/200\n",
            "250/250 [==============================] - 0s 2ms/step - loss: 0.3290 - accuracy: 0.8652\n",
            "Epoch 11/200\n",
            "250/250 [==============================] - 0s 2ms/step - loss: 0.3300 - accuracy: 0.8637\n",
            "Epoch 12/200\n",
            "250/250 [==============================] - 0s 2ms/step - loss: 0.3299 - accuracy: 0.8637\n",
            "Epoch 13/200\n",
            "250/250 [==============================] - 0s 2ms/step - loss: 0.3298 - accuracy: 0.8652\n",
            "Epoch 14/200\n",
            "250/250 [==============================] - 0s 2ms/step - loss: 0.3297 - accuracy: 0.8654\n",
            "Epoch 15/200\n",
            "250/250 [==============================] - 0s 2ms/step - loss: 0.3294 - accuracy: 0.8636\n",
            "Epoch 16/200\n",
            "250/250 [==============================] - 0s 2ms/step - loss: 0.3293 - accuracy: 0.8659\n",
            "Epoch 17/200\n",
            "250/250 [==============================] - 0s 2ms/step - loss: 0.3295 - accuracy: 0.8651\n",
            "Epoch 18/200\n",
            "250/250 [==============================] - 0s 2ms/step - loss: 0.3293 - accuracy: 0.8649\n",
            "Epoch 19/200\n",
            "250/250 [==============================] - 0s 2ms/step - loss: 0.3298 - accuracy: 0.8639\n",
            "Epoch 20/200\n",
            "250/250 [==============================] - 0s 2ms/step - loss: 0.3294 - accuracy: 0.8633\n",
            "Epoch 21/200\n",
            "250/250 [==============================] - 0s 2ms/step - loss: 0.3291 - accuracy: 0.8644\n",
            "Epoch 22/200\n",
            "250/250 [==============================] - 0s 2ms/step - loss: 0.3292 - accuracy: 0.8656\n",
            "Epoch 23/200\n",
            "250/250 [==============================] - 0s 2ms/step - loss: 0.3290 - accuracy: 0.8631\n",
            "Epoch 24/200\n",
            "250/250 [==============================] - 1s 2ms/step - loss: 0.3288 - accuracy: 0.8633\n",
            "Epoch 25/200\n",
            "250/250 [==============================] - 1s 3ms/step - loss: 0.3287 - accuracy: 0.8634\n",
            "Epoch 26/200\n",
            "250/250 [==============================] - 1s 3ms/step - loss: 0.3287 - accuracy: 0.8648\n",
            "Epoch 27/200\n",
            "250/250 [==============================] - 1s 3ms/step - loss: 0.3288 - accuracy: 0.8648\n",
            "Epoch 28/200\n",
            "250/250 [==============================] - 1s 3ms/step - loss: 0.3286 - accuracy: 0.8650\n",
            "Epoch 29/200\n",
            "250/250 [==============================] - 1s 3ms/step - loss: 0.3286 - accuracy: 0.8648\n",
            "Epoch 30/200\n",
            "250/250 [==============================] - 0s 2ms/step - loss: 0.3288 - accuracy: 0.8671\n",
            "Epoch 31/200\n",
            "250/250 [==============================] - 0s 2ms/step - loss: 0.3285 - accuracy: 0.8639\n",
            "Epoch 32/200\n",
            "250/250 [==============================] - 0s 2ms/step - loss: 0.3283 - accuracy: 0.8655\n",
            "Epoch 33/200\n",
            "250/250 [==============================] - 0s 2ms/step - loss: 0.3286 - accuracy: 0.8646\n",
            "Epoch 34/200\n",
            "250/250 [==============================] - 0s 2ms/step - loss: 0.3282 - accuracy: 0.8644\n",
            "Epoch 35/200\n",
            "250/250 [==============================] - 0s 2ms/step - loss: 0.3282 - accuracy: 0.8649\n",
            "Epoch 36/200\n",
            "250/250 [==============================] - 0s 2ms/step - loss: 0.3280 - accuracy: 0.8645\n",
            "Epoch 37/200\n",
            "250/250 [==============================] - 0s 2ms/step - loss: 0.3279 - accuracy: 0.8644\n",
            "Epoch 38/200\n",
            "250/250 [==============================] - 0s 2ms/step - loss: 0.3280 - accuracy: 0.8640\n",
            "Epoch 39/200\n",
            "250/250 [==============================] - 0s 2ms/step - loss: 0.3280 - accuracy: 0.8662\n",
            "Epoch 40/200\n",
            "250/250 [==============================] - 0s 2ms/step - loss: 0.3282 - accuracy: 0.8658\n",
            "Epoch 41/200\n",
            "250/250 [==============================] - 0s 2ms/step - loss: 0.3278 - accuracy: 0.8655\n",
            "Epoch 42/200\n",
            "250/250 [==============================] - 0s 2ms/step - loss: 0.3278 - accuracy: 0.8649\n",
            "Epoch 43/200\n",
            "250/250 [==============================] - 0s 2ms/step - loss: 0.3276 - accuracy: 0.8658\n",
            "Epoch 44/200\n",
            "250/250 [==============================] - 0s 2ms/step - loss: 0.3276 - accuracy: 0.8650\n",
            "Epoch 45/200\n",
            "250/250 [==============================] - 0s 2ms/step - loss: 0.3282 - accuracy: 0.8648\n",
            "Epoch 46/200\n",
            "250/250 [==============================] - 0s 2ms/step - loss: 0.3283 - accuracy: 0.8644\n",
            "Epoch 47/200\n",
            "250/250 [==============================] - 0s 2ms/step - loss: 0.3282 - accuracy: 0.8639\n",
            "Epoch 48/200\n",
            "250/250 [==============================] - 0s 2ms/step - loss: 0.3279 - accuracy: 0.8639\n",
            "Epoch 49/200\n",
            "250/250 [==============================] - 0s 2ms/step - loss: 0.3278 - accuracy: 0.8662\n",
            "Epoch 50/200\n",
            "250/250 [==============================] - 0s 2ms/step - loss: 0.3281 - accuracy: 0.8644\n",
            "Epoch 51/200\n",
            "250/250 [==============================] - 0s 2ms/step - loss: 0.3278 - accuracy: 0.8634\n",
            "Epoch 52/200\n",
            "250/250 [==============================] - 1s 3ms/step - loss: 0.3276 - accuracy: 0.8651\n",
            "Epoch 53/200\n",
            "250/250 [==============================] - 1s 3ms/step - loss: 0.3278 - accuracy: 0.8652\n",
            "Epoch 54/200\n",
            "250/250 [==============================] - 1s 3ms/step - loss: 0.3280 - accuracy: 0.8650\n",
            "Epoch 55/200\n",
            "250/250 [==============================] - 1s 3ms/step - loss: 0.3274 - accuracy: 0.8661\n",
            "Epoch 56/200\n",
            "250/250 [==============================] - 1s 3ms/step - loss: 0.3279 - accuracy: 0.8652\n",
            "Epoch 57/200\n",
            "250/250 [==============================] - 1s 3ms/step - loss: 0.3273 - accuracy: 0.8646\n",
            "Epoch 58/200\n",
            "250/250 [==============================] - 0s 2ms/step - loss: 0.3284 - accuracy: 0.8649\n",
            "Epoch 59/200\n",
            "250/250 [==============================] - 0s 2ms/step - loss: 0.3278 - accuracy: 0.8649\n",
            "Epoch 60/200\n",
            "250/250 [==============================] - 0s 2ms/step - loss: 0.3275 - accuracy: 0.8651\n",
            "Epoch 61/200\n",
            "250/250 [==============================] - 0s 2ms/step - loss: 0.3280 - accuracy: 0.8652\n",
            "Epoch 62/200\n",
            "250/250 [==============================] - 0s 2ms/step - loss: 0.3275 - accuracy: 0.8652\n",
            "Epoch 63/200\n",
            "250/250 [==============================] - 0s 2ms/step - loss: 0.3271 - accuracy: 0.8652\n",
            "Epoch 64/200\n",
            "250/250 [==============================] - 0s 2ms/step - loss: 0.3280 - accuracy: 0.8637\n",
            "Epoch 65/200\n",
            "250/250 [==============================] - 0s 2ms/step - loss: 0.3274 - accuracy: 0.8649\n",
            "Epoch 66/200\n",
            "250/250 [==============================] - 0s 2ms/step - loss: 0.3272 - accuracy: 0.8662\n",
            "Epoch 67/200\n",
            "250/250 [==============================] - 0s 2ms/step - loss: 0.3276 - accuracy: 0.8645\n",
            "Epoch 68/200\n",
            "250/250 [==============================] - 0s 2ms/step - loss: 0.3275 - accuracy: 0.8626\n",
            "Epoch 69/200\n",
            "250/250 [==============================] - 0s 2ms/step - loss: 0.3278 - accuracy: 0.8651\n",
            "Epoch 70/200\n",
            "250/250 [==============================] - 0s 2ms/step - loss: 0.3275 - accuracy: 0.8639\n",
            "Epoch 71/200\n",
            "250/250 [==============================] - 0s 2ms/step - loss: 0.3276 - accuracy: 0.8648\n",
            "Epoch 72/200\n",
            "250/250 [==============================] - 0s 2ms/step - loss: 0.3274 - accuracy: 0.8651\n",
            "Epoch 73/200\n",
            "250/250 [==============================] - 0s 2ms/step - loss: 0.3279 - accuracy: 0.8648\n",
            "Epoch 74/200\n",
            "250/250 [==============================] - 0s 2ms/step - loss: 0.3277 - accuracy: 0.8635\n",
            "Epoch 75/200\n",
            "250/250 [==============================] - 0s 2ms/step - loss: 0.3273 - accuracy: 0.8643\n",
            "Epoch 76/200\n",
            "250/250 [==============================] - 0s 2ms/step - loss: 0.3273 - accuracy: 0.8656\n",
            "Epoch 77/200\n",
            "250/250 [==============================] - 0s 2ms/step - loss: 0.3275 - accuracy: 0.8640\n",
            "Epoch 78/200\n",
            "250/250 [==============================] - 0s 2ms/step - loss: 0.3273 - accuracy: 0.8644\n",
            "Epoch 79/200\n",
            "250/250 [==============================] - 0s 2ms/step - loss: 0.3274 - accuracy: 0.8637\n",
            "Epoch 80/200\n",
            "250/250 [==============================] - 1s 3ms/step - loss: 0.3273 - accuracy: 0.8644\n",
            "Epoch 81/200\n",
            "250/250 [==============================] - 1s 3ms/step - loss: 0.3277 - accuracy: 0.8645\n",
            "Epoch 82/200\n",
            "250/250 [==============================] - 1s 3ms/step - loss: 0.3271 - accuracy: 0.8640\n",
            "Epoch 83/200\n",
            "250/250 [==============================] - 1s 3ms/step - loss: 0.3272 - accuracy: 0.8645\n",
            "Epoch 84/200\n",
            "250/250 [==============================] - 1s 2ms/step - loss: 0.3278 - accuracy: 0.8640\n",
            "Epoch 85/200\n",
            "250/250 [==============================] - 1s 3ms/step - loss: 0.3269 - accuracy: 0.8649\n",
            "Epoch 86/200\n",
            "250/250 [==============================] - 0s 2ms/step - loss: 0.3274 - accuracy: 0.8659\n",
            "Epoch 87/200\n",
            "250/250 [==============================] - 0s 2ms/step - loss: 0.3274 - accuracy: 0.8651\n",
            "Epoch 88/200\n",
            "250/250 [==============================] - 0s 2ms/step - loss: 0.3274 - accuracy: 0.8636\n",
            "Epoch 89/200\n",
            "250/250 [==============================] - 0s 2ms/step - loss: 0.3278 - accuracy: 0.8635\n",
            "Epoch 90/200\n",
            "250/250 [==============================] - 0s 2ms/step - loss: 0.3272 - accuracy: 0.8651\n",
            "Epoch 91/200\n",
            "250/250 [==============================] - 0s 2ms/step - loss: 0.3272 - accuracy: 0.8654\n",
            "Epoch 92/200\n",
            "250/250 [==============================] - 0s 2ms/step - loss: 0.3275 - accuracy: 0.8654\n",
            "Epoch 93/200\n",
            "250/250 [==============================] - 0s 2ms/step - loss: 0.3276 - accuracy: 0.8640\n",
            "Epoch 94/200\n",
            "250/250 [==============================] - 0s 2ms/step - loss: 0.3275 - accuracy: 0.8636\n",
            "Epoch 95/200\n",
            "250/250 [==============================] - 0s 2ms/step - loss: 0.3275 - accuracy: 0.8650\n",
            "Epoch 96/200\n",
            "250/250 [==============================] - 0s 2ms/step - loss: 0.3271 - accuracy: 0.8646\n",
            "Epoch 97/200\n",
            "250/250 [==============================] - 0s 2ms/step - loss: 0.3268 - accuracy: 0.8656\n",
            "Epoch 98/200\n",
            "250/250 [==============================] - 0s 2ms/step - loss: 0.3274 - accuracy: 0.8659\n",
            "Epoch 99/200\n",
            "250/250 [==============================] - 0s 2ms/step - loss: 0.3277 - accuracy: 0.8645\n",
            "Epoch 100/200\n",
            "250/250 [==============================] - 0s 2ms/step - loss: 0.3272 - accuracy: 0.8655\n",
            "Epoch 101/200\n",
            "250/250 [==============================] - 0s 2ms/step - loss: 0.3274 - accuracy: 0.8629\n",
            "Epoch 102/200\n",
            "250/250 [==============================] - 0s 2ms/step - loss: 0.3274 - accuracy: 0.8658\n",
            "Epoch 103/200\n",
            "250/250 [==============================] - 0s 2ms/step - loss: 0.3273 - accuracy: 0.8626\n",
            "Epoch 104/200\n",
            "250/250 [==============================] - 0s 2ms/step - loss: 0.3272 - accuracy: 0.8634\n",
            "Epoch 105/200\n",
            "250/250 [==============================] - 0s 2ms/step - loss: 0.3272 - accuracy: 0.8661\n",
            "Epoch 106/200\n",
            "250/250 [==============================] - 0s 2ms/step - loss: 0.3273 - accuracy: 0.8648\n",
            "Epoch 107/200\n",
            "250/250 [==============================] - 1s 2ms/step - loss: 0.3273 - accuracy: 0.8655\n",
            "Epoch 108/200\n",
            "250/250 [==============================] - 1s 3ms/step - loss: 0.3273 - accuracy: 0.8650\n",
            "Epoch 109/200\n",
            "250/250 [==============================] - 1s 3ms/step - loss: 0.3273 - accuracy: 0.8631\n",
            "Epoch 110/200\n",
            "250/250 [==============================] - 1s 3ms/step - loss: 0.3276 - accuracy: 0.8656\n",
            "Epoch 111/200\n",
            "250/250 [==============================] - 1s 3ms/step - loss: 0.3275 - accuracy: 0.8633\n",
            "Epoch 112/200\n",
            "250/250 [==============================] - 1s 2ms/step - loss: 0.3274 - accuracy: 0.8643\n",
            "Epoch 113/200\n",
            "250/250 [==============================] - 1s 3ms/step - loss: 0.3272 - accuracy: 0.8641\n",
            "Epoch 114/200\n",
            "250/250 [==============================] - 0s 2ms/step - loss: 0.3276 - accuracy: 0.8646\n",
            "Epoch 115/200\n",
            "250/250 [==============================] - 0s 2ms/step - loss: 0.3272 - accuracy: 0.8649\n",
            "Epoch 116/200\n",
            "250/250 [==============================] - 0s 2ms/step - loss: 0.3273 - accuracy: 0.8635\n",
            "Epoch 117/200\n",
            "250/250 [==============================] - 0s 2ms/step - loss: 0.3274 - accuracy: 0.8637\n",
            "Epoch 118/200\n",
            "250/250 [==============================] - 0s 2ms/step - loss: 0.3272 - accuracy: 0.8654\n",
            "Epoch 119/200\n",
            "250/250 [==============================] - 0s 2ms/step - loss: 0.3276 - accuracy: 0.8637\n",
            "Epoch 120/200\n",
            "250/250 [==============================] - 0s 2ms/step - loss: 0.3276 - accuracy: 0.8651\n",
            "Epoch 121/200\n",
            "250/250 [==============================] - 0s 2ms/step - loss: 0.3273 - accuracy: 0.8665\n",
            "Epoch 122/200\n",
            "250/250 [==============================] - 0s 2ms/step - loss: 0.3275 - accuracy: 0.8648\n",
            "Epoch 123/200\n",
            "250/250 [==============================] - 0s 2ms/step - loss: 0.3275 - accuracy: 0.8648\n",
            "Epoch 124/200\n",
            "250/250 [==============================] - 0s 2ms/step - loss: 0.3273 - accuracy: 0.8648\n",
            "Epoch 125/200\n",
            "250/250 [==============================] - 0s 2ms/step - loss: 0.3274 - accuracy: 0.8648\n",
            "Epoch 126/200\n",
            "250/250 [==============================] - 0s 2ms/step - loss: 0.3273 - accuracy: 0.8648\n",
            "Epoch 127/200\n",
            "250/250 [==============================] - 0s 2ms/step - loss: 0.3275 - accuracy: 0.8636\n",
            "Epoch 128/200\n",
            "250/250 [==============================] - 0s 2ms/step - loss: 0.3272 - accuracy: 0.8643\n",
            "Epoch 129/200\n",
            "250/250 [==============================] - 0s 2ms/step - loss: 0.3271 - accuracy: 0.8659\n",
            "Epoch 130/200\n",
            "250/250 [==============================] - 0s 2ms/step - loss: 0.3266 - accuracy: 0.8635\n",
            "Epoch 131/200\n",
            "250/250 [==============================] - 0s 2ms/step - loss: 0.3278 - accuracy: 0.8630\n",
            "Epoch 132/200\n",
            "250/250 [==============================] - 0s 2ms/step - loss: 0.3272 - accuracy: 0.8643\n",
            "Epoch 133/200\n",
            "250/250 [==============================] - 0s 2ms/step - loss: 0.3274 - accuracy: 0.8648\n",
            "Epoch 134/200\n",
            "250/250 [==============================] - 0s 2ms/step - loss: 0.3277 - accuracy: 0.8646\n",
            "Epoch 135/200\n",
            "250/250 [==============================] - 1s 2ms/step - loss: 0.3271 - accuracy: 0.8635\n",
            "Epoch 136/200\n",
            "250/250 [==============================] - 1s 3ms/step - loss: 0.3274 - accuracy: 0.8640\n",
            "Epoch 137/200\n",
            "250/250 [==============================] - 1s 3ms/step - loss: 0.3271 - accuracy: 0.8643\n",
            "Epoch 138/200\n",
            "250/250 [==============================] - 1s 2ms/step - loss: 0.3275 - accuracy: 0.8649\n",
            "Epoch 139/200\n",
            "250/250 [==============================] - 1s 3ms/step - loss: 0.3272 - accuracy: 0.8650\n",
            "Epoch 140/200\n",
            "250/250 [==============================] - 1s 3ms/step - loss: 0.3270 - accuracy: 0.8644\n",
            "Epoch 141/200\n",
            "250/250 [==============================] - 1s 3ms/step - loss: 0.3271 - accuracy: 0.8649\n",
            "Epoch 142/200\n",
            "250/250 [==============================] - 0s 2ms/step - loss: 0.3269 - accuracy: 0.8646\n",
            "Epoch 143/200\n",
            "250/250 [==============================] - 0s 2ms/step - loss: 0.3272 - accuracy: 0.8637\n",
            "Epoch 144/200\n",
            "250/250 [==============================] - 0s 2ms/step - loss: 0.3267 - accuracy: 0.8668\n",
            "Epoch 145/200\n",
            "250/250 [==============================] - 0s 2ms/step - loss: 0.3271 - accuracy: 0.8654\n",
            "Epoch 146/200\n",
            "250/250 [==============================] - 0s 2ms/step - loss: 0.3268 - accuracy: 0.8649\n",
            "Epoch 147/200\n",
            "250/250 [==============================] - 0s 2ms/step - loss: 0.3273 - accuracy: 0.8641\n",
            "Epoch 148/200\n",
            "250/250 [==============================] - 0s 2ms/step - loss: 0.3277 - accuracy: 0.8655\n",
            "Epoch 149/200\n",
            "250/250 [==============================] - 0s 2ms/step - loss: 0.3271 - accuracy: 0.8641\n",
            "Epoch 150/200\n",
            "250/250 [==============================] - 0s 2ms/step - loss: 0.3272 - accuracy: 0.8644\n",
            "Epoch 151/200\n",
            "250/250 [==============================] - 0s 2ms/step - loss: 0.3272 - accuracy: 0.8654\n",
            "Epoch 152/200\n",
            "250/250 [==============================] - 0s 2ms/step - loss: 0.3273 - accuracy: 0.8639\n",
            "Epoch 153/200\n",
            "250/250 [==============================] - 0s 2ms/step - loss: 0.3270 - accuracy: 0.8650\n",
            "Epoch 154/200\n",
            "250/250 [==============================] - 0s 2ms/step - loss: 0.3273 - accuracy: 0.8646\n",
            "Epoch 155/200\n",
            "250/250 [==============================] - 0s 2ms/step - loss: 0.3275 - accuracy: 0.8635\n",
            "Epoch 156/200\n",
            "250/250 [==============================] - 0s 2ms/step - loss: 0.3273 - accuracy: 0.8635\n",
            "Epoch 157/200\n",
            "250/250 [==============================] - 0s 2ms/step - loss: 0.3268 - accuracy: 0.8651\n",
            "Epoch 158/200\n",
            "250/250 [==============================] - 0s 2ms/step - loss: 0.3271 - accuracy: 0.8649\n",
            "Epoch 159/200\n",
            "250/250 [==============================] - 0s 2ms/step - loss: 0.3272 - accuracy: 0.8654\n",
            "Epoch 160/200\n",
            "250/250 [==============================] - 0s 2ms/step - loss: 0.3267 - accuracy: 0.8651\n",
            "Epoch 161/200\n",
            "250/250 [==============================] - 0s 2ms/step - loss: 0.3273 - accuracy: 0.8650\n",
            "Epoch 162/200\n",
            "250/250 [==============================] - 0s 2ms/step - loss: 0.3272 - accuracy: 0.8646\n",
            "Epoch 163/200\n",
            "250/250 [==============================] - 1s 2ms/step - loss: 0.3266 - accuracy: 0.8648\n",
            "Epoch 164/200\n",
            "250/250 [==============================] - 1s 3ms/step - loss: 0.3269 - accuracy: 0.8629\n",
            "Epoch 165/200\n",
            "250/250 [==============================] - 1s 3ms/step - loss: 0.3275 - accuracy: 0.8649\n",
            "Epoch 166/200\n",
            "250/250 [==============================] - 1s 3ms/step - loss: 0.3270 - accuracy: 0.8650\n",
            "Epoch 167/200\n",
            "250/250 [==============================] - 1s 3ms/step - loss: 0.3272 - accuracy: 0.8630\n",
            "Epoch 168/200\n",
            "250/250 [==============================] - 1s 3ms/step - loss: 0.3268 - accuracy: 0.8646\n",
            "Epoch 169/200\n",
            "250/250 [==============================] - 1s 3ms/step - loss: 0.3270 - accuracy: 0.8646\n",
            "Epoch 170/200\n",
            "250/250 [==============================] - 0s 2ms/step - loss: 0.3275 - accuracy: 0.8641\n",
            "Epoch 171/200\n",
            "250/250 [==============================] - 0s 2ms/step - loss: 0.3271 - accuracy: 0.8651\n",
            "Epoch 172/200\n",
            "250/250 [==============================] - 0s 2ms/step - loss: 0.3271 - accuracy: 0.8651\n",
            "Epoch 173/200\n",
            "250/250 [==============================] - 0s 2ms/step - loss: 0.3271 - accuracy: 0.8648\n",
            "Epoch 174/200\n",
            "250/250 [==============================] - 0s 2ms/step - loss: 0.3272 - accuracy: 0.8660\n",
            "Epoch 175/200\n",
            "250/250 [==============================] - 0s 2ms/step - loss: 0.3269 - accuracy: 0.8645\n",
            "Epoch 176/200\n",
            "250/250 [==============================] - 0s 2ms/step - loss: 0.3271 - accuracy: 0.8646\n",
            "Epoch 177/200\n",
            "250/250 [==============================] - 0s 2ms/step - loss: 0.3269 - accuracy: 0.8648\n",
            "Epoch 178/200\n",
            "250/250 [==============================] - 0s 2ms/step - loss: 0.3262 - accuracy: 0.8651\n",
            "Epoch 179/200\n",
            "250/250 [==============================] - 0s 2ms/step - loss: 0.3266 - accuracy: 0.8641\n",
            "Epoch 180/200\n",
            "250/250 [==============================] - 0s 2ms/step - loss: 0.3274 - accuracy: 0.8643\n",
            "Epoch 181/200\n",
            "250/250 [==============================] - 0s 2ms/step - loss: 0.3272 - accuracy: 0.8650\n",
            "Epoch 182/200\n",
            "250/250 [==============================] - 0s 2ms/step - loss: 0.3270 - accuracy: 0.8635\n",
            "Epoch 183/200\n",
            "250/250 [==============================] - 0s 2ms/step - loss: 0.3275 - accuracy: 0.8646\n",
            "Epoch 184/200\n",
            "250/250 [==============================] - 0s 2ms/step - loss: 0.3268 - accuracy: 0.8646\n",
            "Epoch 185/200\n",
            "250/250 [==============================] - 0s 2ms/step - loss: 0.3271 - accuracy: 0.8640\n",
            "Epoch 186/200\n",
            "250/250 [==============================] - 0s 2ms/step - loss: 0.3267 - accuracy: 0.8645\n",
            "Epoch 187/200\n",
            "250/250 [==============================] - 0s 2ms/step - loss: 0.3269 - accuracy: 0.8641\n",
            "Epoch 188/200\n",
            "250/250 [==============================] - 0s 2ms/step - loss: 0.3266 - accuracy: 0.8670\n",
            "Epoch 189/200\n",
            "250/250 [==============================] - 0s 2ms/step - loss: 0.3269 - accuracy: 0.8662\n",
            "Epoch 190/200\n",
            "250/250 [==============================] - 0s 2ms/step - loss: 0.3270 - accuracy: 0.8649\n",
            "Epoch 191/200\n",
            "250/250 [==============================] - 1s 3ms/step - loss: 0.3270 - accuracy: 0.8659\n",
            "Epoch 192/200\n",
            "250/250 [==============================] - 1s 3ms/step - loss: 0.3266 - accuracy: 0.8665\n",
            "Epoch 193/200\n",
            "250/250 [==============================] - 1s 3ms/step - loss: 0.3267 - accuracy: 0.8648\n",
            "Epoch 194/200\n",
            "250/250 [==============================] - 1s 2ms/step - loss: 0.3271 - accuracy: 0.8648\n",
            "Epoch 195/200\n",
            "250/250 [==============================] - 1s 2ms/step - loss: 0.3269 - accuracy: 0.8651\n",
            "Epoch 196/200\n",
            "250/250 [==============================] - 1s 3ms/step - loss: 0.3266 - accuracy: 0.8662\n",
            "Epoch 197/200\n",
            "250/250 [==============================] - 1s 2ms/step - loss: 0.3267 - accuracy: 0.8660\n",
            "Epoch 198/200\n",
            "250/250 [==============================] - 0s 2ms/step - loss: 0.3267 - accuracy: 0.8641\n",
            "Epoch 199/200\n",
            "250/250 [==============================] - 0s 2ms/step - loss: 0.3266 - accuracy: 0.8650\n",
            "Epoch 200/200\n",
            "250/250 [==============================] - 0s 2ms/step - loss: 0.3266 - accuracy: 0.8670\n"
          ]
        },
        {
          "output_type": "execute_result",
          "data": {
            "text/plain": [
              "<keras.src.callbacks.History at 0x7c5d81ddc400>"
            ]
          },
          "metadata": {},
          "execution_count": 49
        }
      ]
    },
    {
      "cell_type": "markdown",
      "source": [
        "# Part 4 : Making the predictions and evaluating the model"
      ],
      "metadata": {
        "id": "laq8AJsCg-hj"
      }
    },
    {
      "cell_type": "markdown",
      "source": [
        "Predicting the result of a single observation"
      ],
      "metadata": {
        "id": "iJKZe4SahJPx"
      }
    },
    {
      "cell_type": "code",
      "source": [
        "print(ann.predict(sc.transform([[1, 0, 0, 600, 1, 40, 3, 60000, 2, 1, 1, 50000]])) > 0.5 )"
      ],
      "metadata": {
        "colab": {
          "base_uri": "https://localhost:8080/"
        },
        "id": "N5w_fTHHhFM2",
        "outputId": "70cbd5df-fa30-405c-acca-9ec54d276796"
      },
      "execution_count": 50,
      "outputs": [
        {
          "output_type": "stream",
          "name": "stdout",
          "text": [
            "1/1 [==============================] - 0s 38ms/step\n",
            "[[False]]\n"
          ]
        }
      ]
    },
    {
      "cell_type": "markdown",
      "source": [
        "Predicting the Test set results\n"
      ],
      "metadata": {
        "id": "zSWTuowAmQgX"
      }
    },
    {
      "cell_type": "code",
      "source": [
        "y_pred = ann.predict(X_test)\n",
        "y_pred = (y_pred > 0.5)\n",
        "print(np.concatenate((y_pred.reshape(len(y_pred),1), y_test.reshape(len(y_test),1)),1))"
      ],
      "metadata": {
        "colab": {
          "base_uri": "https://localhost:8080/"
        },
        "id": "alTq0b1dmTgd",
        "outputId": "802799fe-e2c7-4266-fde4-e182bd4eb850"
      },
      "execution_count": 51,
      "outputs": [
        {
          "output_type": "stream",
          "name": "stdout",
          "text": [
            "63/63 [==============================] - 0s 2ms/step\n",
            "[[0 0]\n",
            " [0 1]\n",
            " [0 0]\n",
            " ...\n",
            " [0 0]\n",
            " [0 0]\n",
            " [0 0]]\n"
          ]
        }
      ]
    },
    {
      "cell_type": "markdown",
      "source": [
        "Making the Confusion Matrix"
      ],
      "metadata": {
        "id": "Lx1H3r8mmUTU"
      }
    },
    {
      "cell_type": "code",
      "source": [
        "from sklearn.metrics import confusion_matrix, accuracy_score\n",
        "cm = confusion_matrix(y_test, y_pred)\n",
        "print(cm)\n",
        "accuracy_score(y_test, y_pred)"
      ],
      "metadata": {
        "colab": {
          "base_uri": "https://localhost:8080/"
        },
        "id": "B99yLA-um39g",
        "outputId": "ccceacb9-a239-492e-a3df-b4da1868b568"
      },
      "execution_count": 52,
      "outputs": [
        {
          "output_type": "stream",
          "name": "stdout",
          "text": [
            "[[1519   76]\n",
            " [ 199  206]]\n"
          ]
        },
        {
          "output_type": "execute_result",
          "data": {
            "text/plain": [
              "0.8625"
            ]
          },
          "metadata": {},
          "execution_count": 52
        }
      ]
    }
  ]
}